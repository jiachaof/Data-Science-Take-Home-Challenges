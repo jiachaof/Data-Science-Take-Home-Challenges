{
  "cells": [
    {
      "metadata": {},
      "cell_type": "markdown",
      "source": "## Goal\nA/B tests play a huge role in website optimization. Analyzing A/B tests data is a very important\ndata scientist responsibility. Especially, data scientists have to make sure that results are\nreliable, trustworthy, and conclusions can be drawn.\nFurthermore, companies often run tens, if not hundreds, of A/B tests at the same time. Manually\nanalyzing all of them would require lot of time and people. Therefore, it is common practice to\nlook at the typical A/B test analysis steps and try to automate as much as possible. This frees\nup time for the data scientists to work on more high level topics.\nIn this challenge, you will have to analyze results from an A/B test. Also, you will be asked to\ndesign an algorithm to automate some steps."
    },
    {
      "metadata": {},
      "cell_type": "markdown",
      "source": "## Challenge Description\nCompany XYZ is a worldwide e-commerce site with localized versions of the site.\nA data scientist at XYZ noticed that Spain-based users have a much higher conversion rate than\nany other Spanish-speaking country. She therefore went and talked to the international team in\ncharge of Spain And LatAm to see if they had any ideas about why that was happening.\nSpain and LatAm country manager suggested that one reason could be translation. All Spanishspeaking\ncountries had the same translation of the site which was written by a Spaniard. They\nagreed to try a test where each country would have its one translation written by a local. That is,\nArgentinian users would see a translation written by an Argentinian, Mexican users by a Mexican\nand so on. Obviously, nothing would change for users from Spain.\nAfter they run the test however, they are really surprised cause the test is negative. I.e., it\nappears that the non-localized translation was doing better!\nYou are asked to:\n- Confirm that the test is actually negative. That is, it appears that the old version of the\n- site with just one translation across Spain and LatAm performs better\n- Explain why that might be happening. Are the localized translations really worse?\n- If you identified what was wrong, design an algorithm that would return FALSE if the\nsame problem is happening in the future and TRUE if everything is good and the results\ncan be trusted."
    },
    {
      "metadata": {
        "trusted": true
      },
      "cell_type": "code",
      "source": "# data analysis and wrangling\nimport pandas as pd\nimport numpy as np\nimport random as rnd\n\n# visualization\nimport seaborn as sns\nimport matplotlib.pyplot as plt\n%matplotlib inline",
      "execution_count": 1,
      "outputs": []
    },
    {
      "metadata": {
        "trusted": true
      },
      "cell_type": "code",
      "source": "# load dataset\ntest_table = pd.read_csv(\"data/test_table.csv\")\nuser_table = pd.read_csv(\"data/user_table.csv\")\nprint(test_table.columns.values)\nprint(user_table.columns.values)",
      "execution_count": 4,
      "outputs": [
        {
          "output_type": "stream",
          "text": "['user_id' 'date' 'source' 'device' 'browser_language' 'ads_channel'\n 'browser' 'conversion' 'test']\n['user_id' 'sex' 'age' 'country']\n",
          "name": "stdout"
        }
      ]
    },
    {
      "metadata": {
        "trusted": true
      },
      "cell_type": "code",
      "source": "print(test_table.head())\nprint(user_table.head())",
      "execution_count": 5,
      "outputs": [
        {
          "output_type": "stream",
          "text": "   user_id        date  source  device browser_language ads_channel  \\\n0   315281  2015-12-03  Direct     Web               ES         NaN   \n1   497851  2015-12-04     Ads     Web               ES      Google   \n2   848402  2015-12-04     Ads     Web               ES    Facebook   \n3   290051  2015-12-03     Ads  Mobile            Other    Facebook   \n4   548435  2015-11-30     Ads     Web               ES      Google   \n\n       browser  conversion  test  \n0           IE           1     0  \n1           IE           0     1  \n2       Chrome           0     0  \n3  Android_App           0     1  \n4      FireFox           0     1  \n   user_id sex  age    country\n0   765821   M   20     Mexico\n1   343561   F   27  Nicaragua\n2   118744   M   23   Colombia\n3   987753   F   27  Venezuela\n4   554597   F   20      Spain\n",
          "name": "stdout"
        }
      ]
    },
    {
      "metadata": {
        "trusted": true
      },
      "cell_type": "code",
      "source": "data = pd.merge(test_table,user_table[['sex', 'age', 'country']],on=test_table.user_id, how = 'left')\n",
      "execution_count": 27,
      "outputs": [
        {
          "output_type": "error",
          "ename": "KeyError",
          "evalue": "'[315281 497851 848402 ... 514870 785224 241662] not in index'",
          "traceback": [
            "\u001b[0;31m---------------------------------------------------------------------------\u001b[0m",
            "\u001b[0;31mKeyError\u001b[0m                                  Traceback (most recent call last)",
            "\u001b[0;32m<ipython-input-27-4bad51476a6e>\u001b[0m in \u001b[0;36m<module>\u001b[0;34m\u001b[0m\n\u001b[0;32m----> 1\u001b[0;31m \u001b[0mdata\u001b[0m \u001b[0;34m=\u001b[0m \u001b[0mpd\u001b[0m\u001b[0;34m.\u001b[0m\u001b[0mmerge\u001b[0m\u001b[0;34m(\u001b[0m\u001b[0mtest_table\u001b[0m\u001b[0;34m,\u001b[0m\u001b[0muser_table\u001b[0m\u001b[0;34m[\u001b[0m\u001b[0;34m[\u001b[0m\u001b[0;34m'sex'\u001b[0m\u001b[0;34m,\u001b[0m \u001b[0;34m'age'\u001b[0m\u001b[0;34m,\u001b[0m \u001b[0;34m'country'\u001b[0m\u001b[0;34m]\u001b[0m\u001b[0;34m]\u001b[0m\u001b[0;34m,\u001b[0m\u001b[0mon\u001b[0m\u001b[0;34m=\u001b[0m\u001b[0mtest_table\u001b[0m\u001b[0;34m.\u001b[0m\u001b[0muser_id\u001b[0m\u001b[0;34m,\u001b[0m \u001b[0mhow\u001b[0m \u001b[0;34m=\u001b[0m \u001b[0;34m'left'\u001b[0m\u001b[0;34m)\u001b[0m\u001b[0;34m\u001b[0m\u001b[0m\n\u001b[0m",
            "\u001b[0;32m~/anaconda3_501/lib/python3.6/site-packages/pandas/core/reshape/merge.py\u001b[0m in \u001b[0;36mmerge\u001b[0;34m(left, right, how, on, left_on, right_on, left_index, right_index, sort, suffixes, copy, indicator, validate)\u001b[0m\n\u001b[1;32m     55\u001b[0m                          \u001b[0mright_index\u001b[0m\u001b[0;34m=\u001b[0m\u001b[0mright_index\u001b[0m\u001b[0;34m,\u001b[0m \u001b[0msort\u001b[0m\u001b[0;34m=\u001b[0m\u001b[0msort\u001b[0m\u001b[0;34m,\u001b[0m \u001b[0msuffixes\u001b[0m\u001b[0;34m=\u001b[0m\u001b[0msuffixes\u001b[0m\u001b[0;34m,\u001b[0m\u001b[0;34m\u001b[0m\u001b[0m\n\u001b[1;32m     56\u001b[0m                          \u001b[0mcopy\u001b[0m\u001b[0;34m=\u001b[0m\u001b[0mcopy\u001b[0m\u001b[0;34m,\u001b[0m \u001b[0mindicator\u001b[0m\u001b[0;34m=\u001b[0m\u001b[0mindicator\u001b[0m\u001b[0;34m,\u001b[0m\u001b[0;34m\u001b[0m\u001b[0m\n\u001b[0;32m---> 57\u001b[0;31m                          validate=validate)\n\u001b[0m\u001b[1;32m     58\u001b[0m     \u001b[0;32mreturn\u001b[0m \u001b[0mop\u001b[0m\u001b[0;34m.\u001b[0m\u001b[0mget_result\u001b[0m\u001b[0;34m(\u001b[0m\u001b[0;34m)\u001b[0m\u001b[0;34m\u001b[0m\u001b[0m\n\u001b[1;32m     59\u001b[0m \u001b[0;34m\u001b[0m\u001b[0m\n",
            "\u001b[0;32m~/anaconda3_501/lib/python3.6/site-packages/pandas/core/reshape/merge.py\u001b[0m in \u001b[0;36m__init__\u001b[0;34m(self, left, right, how, on, left_on, right_on, axis, left_index, right_index, sort, suffixes, copy, indicator, validate)\u001b[0m\n\u001b[1;32m    563\u001b[0m         (self.left_join_keys,\n\u001b[1;32m    564\u001b[0m          \u001b[0mself\u001b[0m\u001b[0;34m.\u001b[0m\u001b[0mright_join_keys\u001b[0m\u001b[0;34m,\u001b[0m\u001b[0;34m\u001b[0m\u001b[0m\n\u001b[0;32m--> 565\u001b[0;31m          self.join_names) = self._get_merge_keys()\n\u001b[0m\u001b[1;32m    566\u001b[0m \u001b[0;34m\u001b[0m\u001b[0m\n\u001b[1;32m    567\u001b[0m         \u001b[0;31m# validate the merge keys dtypes. We may need to coerce\u001b[0m\u001b[0;34m\u001b[0m\u001b[0;34m\u001b[0m\u001b[0m\n",
            "\u001b[0;32m~/anaconda3_501/lib/python3.6/site-packages/pandas/core/reshape/merge.py\u001b[0m in \u001b[0;36m_get_merge_keys\u001b[0;34m(self)\u001b[0m\n\u001b[1;32m    813\u001b[0m                     \u001b[0;32melse\u001b[0m\u001b[0;34m:\u001b[0m\u001b[0;34m\u001b[0m\u001b[0m\n\u001b[1;32m    814\u001b[0m                         \u001b[0;32mif\u001b[0m \u001b[0mrk\u001b[0m \u001b[0;32mis\u001b[0m \u001b[0;32mnot\u001b[0m \u001b[0;32mNone\u001b[0m\u001b[0;34m:\u001b[0m\u001b[0;34m\u001b[0m\u001b[0m\n\u001b[0;32m--> 815\u001b[0;31m                             \u001b[0mright_keys\u001b[0m\u001b[0;34m.\u001b[0m\u001b[0mappend\u001b[0m\u001b[0;34m(\u001b[0m\u001b[0mright\u001b[0m\u001b[0;34m[\u001b[0m\u001b[0mrk\u001b[0m\u001b[0;34m]\u001b[0m\u001b[0;34m.\u001b[0m\u001b[0m_values\u001b[0m\u001b[0;34m)\u001b[0m\u001b[0;34m\u001b[0m\u001b[0m\n\u001b[0m\u001b[1;32m    816\u001b[0m                             \u001b[0mjoin_names\u001b[0m\u001b[0;34m.\u001b[0m\u001b[0mappend\u001b[0m\u001b[0;34m(\u001b[0m\u001b[0mrk\u001b[0m\u001b[0;34m)\u001b[0m\u001b[0;34m\u001b[0m\u001b[0m\n\u001b[1;32m    817\u001b[0m                         \u001b[0;32melse\u001b[0m\u001b[0;34m:\u001b[0m\u001b[0;34m\u001b[0m\u001b[0m\n",
            "\u001b[0;32m~/anaconda3_501/lib/python3.6/site-packages/pandas/core/frame.py\u001b[0m in \u001b[0;36m__getitem__\u001b[0;34m(self, key)\u001b[0m\n\u001b[1;32m   2131\u001b[0m         \u001b[0;32mif\u001b[0m \u001b[0misinstance\u001b[0m\u001b[0;34m(\u001b[0m\u001b[0mkey\u001b[0m\u001b[0;34m,\u001b[0m \u001b[0;34m(\u001b[0m\u001b[0mSeries\u001b[0m\u001b[0;34m,\u001b[0m \u001b[0mnp\u001b[0m\u001b[0;34m.\u001b[0m\u001b[0mndarray\u001b[0m\u001b[0;34m,\u001b[0m \u001b[0mIndex\u001b[0m\u001b[0;34m,\u001b[0m \u001b[0mlist\u001b[0m\u001b[0;34m)\u001b[0m\u001b[0;34m)\u001b[0m\u001b[0;34m:\u001b[0m\u001b[0;34m\u001b[0m\u001b[0m\n\u001b[1;32m   2132\u001b[0m             \u001b[0;31m# either boolean or fancy integer index\u001b[0m\u001b[0;34m\u001b[0m\u001b[0;34m\u001b[0m\u001b[0m\n\u001b[0;32m-> 2133\u001b[0;31m             \u001b[0;32mreturn\u001b[0m \u001b[0mself\u001b[0m\u001b[0;34m.\u001b[0m\u001b[0m_getitem_array\u001b[0m\u001b[0;34m(\u001b[0m\u001b[0mkey\u001b[0m\u001b[0;34m)\u001b[0m\u001b[0;34m\u001b[0m\u001b[0m\n\u001b[0m\u001b[1;32m   2134\u001b[0m         \u001b[0;32melif\u001b[0m \u001b[0misinstance\u001b[0m\u001b[0;34m(\u001b[0m\u001b[0mkey\u001b[0m\u001b[0;34m,\u001b[0m \u001b[0mDataFrame\u001b[0m\u001b[0;34m)\u001b[0m\u001b[0;34m:\u001b[0m\u001b[0;34m\u001b[0m\u001b[0m\n\u001b[1;32m   2135\u001b[0m             \u001b[0;32mreturn\u001b[0m \u001b[0mself\u001b[0m\u001b[0;34m.\u001b[0m\u001b[0m_getitem_frame\u001b[0m\u001b[0;34m(\u001b[0m\u001b[0mkey\u001b[0m\u001b[0;34m)\u001b[0m\u001b[0;34m\u001b[0m\u001b[0m\n",
            "\u001b[0;32m~/anaconda3_501/lib/python3.6/site-packages/pandas/core/frame.py\u001b[0m in \u001b[0;36m_getitem_array\u001b[0;34m(self, key)\u001b[0m\n\u001b[1;32m   2175\u001b[0m             \u001b[0;32mreturn\u001b[0m \u001b[0mself\u001b[0m\u001b[0;34m.\u001b[0m\u001b[0m_take\u001b[0m\u001b[0;34m(\u001b[0m\u001b[0mindexer\u001b[0m\u001b[0;34m,\u001b[0m \u001b[0maxis\u001b[0m\u001b[0;34m=\u001b[0m\u001b[0;36m0\u001b[0m\u001b[0;34m,\u001b[0m \u001b[0mconvert\u001b[0m\u001b[0;34m=\u001b[0m\u001b[0;32mFalse\u001b[0m\u001b[0;34m)\u001b[0m\u001b[0;34m\u001b[0m\u001b[0m\n\u001b[1;32m   2176\u001b[0m         \u001b[0;32melse\u001b[0m\u001b[0;34m:\u001b[0m\u001b[0;34m\u001b[0m\u001b[0m\n\u001b[0;32m-> 2177\u001b[0;31m             \u001b[0mindexer\u001b[0m \u001b[0;34m=\u001b[0m \u001b[0mself\u001b[0m\u001b[0;34m.\u001b[0m\u001b[0mloc\u001b[0m\u001b[0;34m.\u001b[0m\u001b[0m_convert_to_indexer\u001b[0m\u001b[0;34m(\u001b[0m\u001b[0mkey\u001b[0m\u001b[0;34m,\u001b[0m \u001b[0maxis\u001b[0m\u001b[0;34m=\u001b[0m\u001b[0;36m1\u001b[0m\u001b[0;34m)\u001b[0m\u001b[0;34m\u001b[0m\u001b[0m\n\u001b[0m\u001b[1;32m   2178\u001b[0m             \u001b[0;32mreturn\u001b[0m \u001b[0mself\u001b[0m\u001b[0;34m.\u001b[0m\u001b[0m_take\u001b[0m\u001b[0;34m(\u001b[0m\u001b[0mindexer\u001b[0m\u001b[0;34m,\u001b[0m \u001b[0maxis\u001b[0m\u001b[0;34m=\u001b[0m\u001b[0;36m1\u001b[0m\u001b[0;34m,\u001b[0m \u001b[0mconvert\u001b[0m\u001b[0;34m=\u001b[0m\u001b[0;32mTrue\u001b[0m\u001b[0;34m)\u001b[0m\u001b[0;34m\u001b[0m\u001b[0m\n\u001b[1;32m   2179\u001b[0m \u001b[0;34m\u001b[0m\u001b[0m\n",
            "\u001b[0;32m~/anaconda3_501/lib/python3.6/site-packages/pandas/core/indexing.py\u001b[0m in \u001b[0;36m_convert_to_indexer\u001b[0;34m(self, obj, axis, is_setter)\u001b[0m\n\u001b[1;32m   1267\u001b[0m                 \u001b[0;32mif\u001b[0m \u001b[0mmask\u001b[0m\u001b[0;34m.\u001b[0m\u001b[0many\u001b[0m\u001b[0;34m(\u001b[0m\u001b[0;34m)\u001b[0m\u001b[0;34m:\u001b[0m\u001b[0;34m\u001b[0m\u001b[0m\n\u001b[1;32m   1268\u001b[0m                     raise KeyError('{mask} not in index'\n\u001b[0;32m-> 1269\u001b[0;31m                                    .format(mask=objarr[mask]))\n\u001b[0m\u001b[1;32m   1270\u001b[0m \u001b[0;34m\u001b[0m\u001b[0m\n\u001b[1;32m   1271\u001b[0m                 \u001b[0;32mreturn\u001b[0m \u001b[0m_values_from_object\u001b[0m\u001b[0;34m(\u001b[0m\u001b[0mindexer\u001b[0m\u001b[0;34m)\u001b[0m\u001b[0;34m\u001b[0m\u001b[0m\n",
            "\u001b[0;31mKeyError\u001b[0m: '[315281 497851 848402 ... 514870 785224 241662] not in index'"
          ]
        }
      ]
    },
    {
      "metadata": {
        "trusted": true
      },
      "cell_type": "code",
      "source": "data.head()",
      "execution_count": 18,
      "outputs": [
        {
          "output_type": "execute_result",
          "execution_count": 18,
          "data": {
            "text/html": "<div>\n<style scoped>\n    .dataframe tbody tr th:only-of-type {\n        vertical-align: middle;\n    }\n\n    .dataframe tbody tr th {\n        vertical-align: top;\n    }\n\n    .dataframe thead th {\n        text-align: right;\n    }\n</style>\n<table border=\"1\" class=\"dataframe\">\n  <thead>\n    <tr style=\"text-align: right;\">\n      <th></th>\n      <th>user_id</th>\n      <th>date</th>\n      <th>source</th>\n      <th>device</th>\n      <th>browser_language</th>\n      <th>ads_channel</th>\n      <th>browser</th>\n      <th>conversion</th>\n      <th>test</th>\n      <th>user_id</th>\n      <th>sex</th>\n      <th>age</th>\n      <th>country</th>\n    </tr>\n    <tr>\n      <th>user_id</th>\n      <th></th>\n      <th></th>\n      <th></th>\n      <th></th>\n      <th></th>\n      <th></th>\n      <th></th>\n      <th></th>\n      <th></th>\n      <th></th>\n      <th></th>\n      <th></th>\n      <th></th>\n    </tr>\n  </thead>\n  <tbody>\n    <tr>\n      <th>315281</th>\n      <td>742015.0</td>\n      <td>2015-12-01</td>\n      <td>Ads</td>\n      <td>Web</td>\n      <td>EN</td>\n      <td>Facebook</td>\n      <td>IE</td>\n      <td>0.0</td>\n      <td>1.0</td>\n      <td>510962.0</td>\n      <td>F</td>\n      <td>19.0</td>\n      <td>Mexico</td>\n    </tr>\n    <tr>\n      <th>497851</th>\n      <td>NaN</td>\n      <td>NaN</td>\n      <td>NaN</td>\n      <td>NaN</td>\n      <td>NaN</td>\n      <td>NaN</td>\n      <td>NaN</td>\n      <td>NaN</td>\n      <td>NaN</td>\n      <td>NaN</td>\n      <td>NaN</td>\n      <td>NaN</td>\n      <td>NaN</td>\n    </tr>\n    <tr>\n      <th>848402</th>\n      <td>NaN</td>\n      <td>NaN</td>\n      <td>NaN</td>\n      <td>NaN</td>\n      <td>NaN</td>\n      <td>NaN</td>\n      <td>NaN</td>\n      <td>NaN</td>\n      <td>NaN</td>\n      <td>NaN</td>\n      <td>NaN</td>\n      <td>NaN</td>\n      <td>NaN</td>\n    </tr>\n    <tr>\n      <th>290051</th>\n      <td>338824.0</td>\n      <td>2015-12-04</td>\n      <td>Direct</td>\n      <td>Mobile</td>\n      <td>ES</td>\n      <td>NaN</td>\n      <td>Android_App</td>\n      <td>0.0</td>\n      <td>1.0</td>\n      <td>63860.0</td>\n      <td>F</td>\n      <td>19.0</td>\n      <td>Mexico</td>\n    </tr>\n    <tr>\n      <th>548435</th>\n      <td>NaN</td>\n      <td>NaN</td>\n      <td>NaN</td>\n      <td>NaN</td>\n      <td>NaN</td>\n      <td>NaN</td>\n      <td>NaN</td>\n      <td>NaN</td>\n      <td>NaN</td>\n      <td>NaN</td>\n      <td>NaN</td>\n      <td>NaN</td>\n      <td>NaN</td>\n    </tr>\n  </tbody>\n</table>\n</div>",
            "text/plain": "          user_id        date  source  device browser_language ads_channel  \\\nuser_id                                                                      \n315281   742015.0  2015-12-01     Ads     Web               EN    Facebook   \n497851        NaN         NaN     NaN     NaN              NaN         NaN   \n848402        NaN         NaN     NaN     NaN              NaN         NaN   \n290051   338824.0  2015-12-04  Direct  Mobile               ES         NaN   \n548435        NaN         NaN     NaN     NaN              NaN         NaN   \n\n             browser  conversion  test   user_id  sex   age country  \nuser_id                                                              \n315281            IE         0.0   1.0  510962.0    F  19.0  Mexico  \n497851           NaN         NaN   NaN       NaN  NaN   NaN     NaN  \n848402           NaN         NaN   NaN       NaN  NaN   NaN     NaN  \n290051   Android_App         0.0   1.0   63860.0    F  19.0  Mexico  \n548435           NaN         NaN   NaN       NaN  NaN   NaN     NaN  "
          },
          "metadata": {}
        }
      ]
    },
    {
      "metadata": {
        "trusted": true
      },
      "cell_type": "code",
      "source": "data.tail()",
      "execution_count": 14,
      "outputs": [
        {
          "output_type": "execute_result",
          "execution_count": 14,
          "data": {
            "text/html": "<div>\n<style scoped>\n    .dataframe tbody tr th:only-of-type {\n        vertical-align: middle;\n    }\n\n    .dataframe tbody tr th {\n        vertical-align: top;\n    }\n\n    .dataframe thead th {\n        text-align: right;\n    }\n</style>\n<table border=\"1\" class=\"dataframe\">\n  <thead>\n    <tr style=\"text-align: right;\">\n      <th></th>\n      <th>user_id</th>\n      <th>date</th>\n      <th>source</th>\n      <th>device</th>\n      <th>browser_language</th>\n      <th>ads_channel</th>\n      <th>browser</th>\n      <th>conversion</th>\n      <th>test</th>\n      <th>user_id</th>\n      <th>sex</th>\n      <th>age</th>\n      <th>country</th>\n    </tr>\n  </thead>\n  <tbody>\n    <tr>\n      <th>452862</th>\n      <td>247117</td>\n      <td>2015-12-03</td>\n      <td>SEO</td>\n      <td>Web</td>\n      <td>ES</td>\n      <td>NaN</td>\n      <td>Chrome</td>\n      <td>0</td>\n      <td>1</td>\n      <td>756215</td>\n      <td>F</td>\n      <td>27</td>\n      <td>Venezuela</td>\n    </tr>\n    <tr>\n      <th>452863</th>\n      <td>372871</td>\n      <td>2015-12-04</td>\n      <td>SEO</td>\n      <td>Web</td>\n      <td>Other</td>\n      <td>NaN</td>\n      <td>FireFox</td>\n      <td>0</td>\n      <td>0</td>\n      <td>36888</td>\n      <td>M</td>\n      <td>18</td>\n      <td>Argentina</td>\n    </tr>\n    <tr>\n      <th>452864</th>\n      <td>616082</td>\n      <td>2015-12-04</td>\n      <td>Ads</td>\n      <td>Web</td>\n      <td>ES</td>\n      <td>Google</td>\n      <td>Chrome</td>\n      <td>0</td>\n      <td>1</td>\n      <td>800559</td>\n      <td>M</td>\n      <td>28</td>\n      <td>Bolivia</td>\n    </tr>\n    <tr>\n      <th>452865</th>\n      <td>80466</td>\n      <td>2015-12-01</td>\n      <td>Ads</td>\n      <td>Mobile</td>\n      <td>ES</td>\n      <td>Google</td>\n      <td>Iphone_App</td>\n      <td>0</td>\n      <td>0</td>\n      <td>176584</td>\n      <td>M</td>\n      <td>19</td>\n      <td>Chile</td>\n    </tr>\n    <tr>\n      <th>452866</th>\n      <td>837203</td>\n      <td>2015-12-03</td>\n      <td>Ads</td>\n      <td>Mobile</td>\n      <td>ES</td>\n      <td>Facebook</td>\n      <td>Android_App</td>\n      <td>1</td>\n      <td>0</td>\n      <td>314649</td>\n      <td>M</td>\n      <td>24</td>\n      <td>Mexico</td>\n    </tr>\n  </tbody>\n</table>\n</div>",
            "text/plain": "        user_id        date source  device browser_language ads_channel  \\\n452862   247117  2015-12-03    SEO     Web               ES         NaN   \n452863   372871  2015-12-04    SEO     Web            Other         NaN   \n452864   616082  2015-12-04    Ads     Web               ES      Google   \n452865    80466  2015-12-01    Ads  Mobile               ES      Google   \n452866   837203  2015-12-03    Ads  Mobile               ES    Facebook   \n\n            browser  conversion  test  user_id sex  age    country  \n452862       Chrome           0     1   756215   F   27  Venezuela  \n452863      FireFox           0     0    36888   M   18  Argentina  \n452864       Chrome           0     1   800559   M   28    Bolivia  \n452865   Iphone_App           0     0   176584   M   19      Chile  \n452866  Android_App           1     0   314649   M   24     Mexico  "
          },
          "metadata": {}
        }
      ]
    },
    {
      "metadata": {
        "trusted": true
      },
      "cell_type": "code",
      "source": "data.info()",
      "execution_count": 15,
      "outputs": [
        {
          "output_type": "stream",
          "text": "<class 'pandas.core.frame.DataFrame'>\nRangeIndex: 452867 entries, 0 to 452866\nData columns (total 13 columns):\nuser_id             452867 non-null int64\ndate                452867 non-null object\nsource              452867 non-null object\ndevice              452867 non-null object\nbrowser_language    452867 non-null object\nads_channel         181676 non-null object\nbrowser             452867 non-null object\nconversion          452867 non-null int64\ntest                452867 non-null int64\nuser_id             452867 non-null int64\nsex                 452867 non-null object\nage                 452867 non-null int64\ncountry             452867 non-null object\ndtypes: int64(5), object(8)\nmemory usage: 44.9+ MB\n",
          "name": "stdout"
        }
      ]
    },
    {
      "metadata": {
        "trusted": true
      },
      "cell_type": "code",
      "source": "data.describe()",
      "execution_count": 16,
      "outputs": [
        {
          "output_type": "execute_result",
          "execution_count": 16,
          "data": {
            "text/html": "<div>\n<style scoped>\n    .dataframe tbody tr th:only-of-type {\n        vertical-align: middle;\n    }\n\n    .dataframe tbody tr th {\n        vertical-align: top;\n    }\n\n    .dataframe thead th {\n        text-align: right;\n    }\n</style>\n<table border=\"1\" class=\"dataframe\">\n  <thead>\n    <tr style=\"text-align: right;\">\n      <th></th>\n      <th>user_id</th>\n      <th>conversion</th>\n      <th>test</th>\n      <th>user_id</th>\n      <th>age</th>\n    </tr>\n  </thead>\n  <tbody>\n    <tr>\n      <th>count</th>\n      <td>452867.000000</td>\n      <td>452867.000000</td>\n      <td>452867.000000</td>\n      <td>452867.000000</td>\n      <td>452867.000000</td>\n    </tr>\n    <tr>\n      <th>mean</th>\n      <td>499907.497283</td>\n      <td>0.049591</td>\n      <td>0.476445</td>\n      <td>499944.805166</td>\n      <td>27.130740</td>\n    </tr>\n    <tr>\n      <th>std</th>\n      <td>288666.992281</td>\n      <td>0.217098</td>\n      <td>0.499445</td>\n      <td>288676.264784</td>\n      <td>6.776678</td>\n    </tr>\n    <tr>\n      <th>min</th>\n      <td>1.000000</td>\n      <td>0.000000</td>\n      <td>0.000000</td>\n      <td>1.000000</td>\n      <td>18.000000</td>\n    </tr>\n    <tr>\n      <th>25%</th>\n      <td>249777.000000</td>\n      <td>0.000000</td>\n      <td>0.000000</td>\n      <td>249819.000000</td>\n      <td>22.000000</td>\n    </tr>\n    <tr>\n      <th>50%</th>\n      <td>499988.000000</td>\n      <td>0.000000</td>\n      <td>0.000000</td>\n      <td>500019.000000</td>\n      <td>26.000000</td>\n    </tr>\n    <tr>\n      <th>75%</th>\n      <td>749497.000000</td>\n      <td>0.000000</td>\n      <td>1.000000</td>\n      <td>749543.000000</td>\n      <td>31.000000</td>\n    </tr>\n    <tr>\n      <th>max</th>\n      <td>1000000.000000</td>\n      <td>1.000000</td>\n      <td>1.000000</td>\n      <td>1000000.000000</td>\n      <td>70.000000</td>\n    </tr>\n  </tbody>\n</table>\n</div>",
            "text/plain": "              user_id     conversion           test         user_id  \\\ncount   452867.000000  452867.000000  452867.000000   452867.000000   \nmean    499907.497283       0.049591       0.476445   499944.805166   \nstd     288666.992281       0.217098       0.499445   288676.264784   \nmin          1.000000       0.000000       0.000000        1.000000   \n25%     249777.000000       0.000000       0.000000   249819.000000   \n50%     499988.000000       0.000000       0.000000   500019.000000   \n75%     749497.000000       0.000000       1.000000   749543.000000   \nmax    1000000.000000       1.000000       1.000000  1000000.000000   \n\n                 age  \ncount  452867.000000  \nmean       27.130740  \nstd         6.776678  \nmin        18.000000  \n25%        22.000000  \n50%        26.000000  \n75%        31.000000  \nmax        70.000000  "
          },
          "metadata": {}
        }
      ]
    },
    {
      "metadata": {
        "trusted": true
      },
      "cell_type": "code",
      "source": " print (data[['test', 'conversion']].groupby('test', as_index=False).mean().sort_values(by='conversion', ascending=False))",
      "execution_count": 28,
      "outputs": [
        {
          "output_type": "stream",
          "text": "   test  conversion\n0   0.0     0.05537\n1   1.0     0.04423\n",
          "name": "stdout"
        }
      ]
    },
    {
      "metadata": {
        "trusted": true
      },
      "cell_type": "code",
      "source": "categories = ['source', 'device', 'browser_language', 'ads_channel',\n 'browser']\nfor cate in categories:\n    print (data[[cate, 'conversion']].groupby([cate], as_index=False).mean().sort_values(by='conversion', ascending=False))\n    print (\"_\"*40)",
      "execution_count": 33,
      "outputs": [
        {
          "output_type": "stream",
          "text": "   source  conversion\n0     Ads    0.050173\n2     SEO    0.050021\n1  Direct    0.049944\n________________________________________\n   device  conversion\n0  Mobile    0.050965\n1     Web    0.049345\n________________________________________\n  browser_language  conversion\n2            Other    0.053251\n1               ES    0.050231\n0               EN    0.048417\n________________________________________\n  ads_channel  conversion\n1    Facebook    0.050963\n4       Yahoo    0.050958\n0        Bing    0.049636\n2      Google    0.049544\n3       Other    0.043840\n________________________________________\n       browser  conversion\n5        Opera    0.056794\n0  Android_App    0.051181\n4   Iphone_App    0.050252\n3           IE    0.049921\n2      FireFox    0.049379\n1       Chrome    0.049074\n6       Safari    0.048006\n________________________________________\n",
          "name": "stdout"
        }
      ]
    },
    {
      "metadata": {
        "trusted": true
      },
      "cell_type": "code",
      "source": "temp_test = test_table[test_table.test==1]\ntemp_no_test = test_table[test_table.test==0]\ncategories = ['source', 'device', 'browser_language', 'ads_channel',\n 'browser']\nfor cate in categories:\n    print (temp_test[[cate, 'conversion']].groupby([cate], as_index=False).mean().sort_values(by=cate, ascending=True))\n    print (temp_no_test[[cate, 'conversion']].groupby([cate], as_index=False).mean().sort_values(by=cate, ascending=True))\n    print (\"_\"*40)",
      "execution_count": 39,
      "outputs": [
        {
          "output_type": "stream",
          "text": "   source  conversion\n0     Ads    0.043546\n1  Direct    0.042489\n2     SEO    0.043770\n   source  conversion\n0     Ads    0.055481\n1  Direct    0.056221\n2     SEO    0.054345\n________________________________________\n   device  conversion\n0  Mobile    0.044003\n1     Web    0.042959\n   device  conversion\n0  Mobile    0.055693\n1     Web    0.054768\n________________________________________\n  browser_language  conversion\n0               EN    0.042610\n1               ES    0.043532\n2            Other    0.044280\n  browser_language  conversion\n0               EN    0.053631\n1               ES    0.055452\n2            Other    0.054709\n________________________________________\n  ads_channel  conversion\n0        Bing    0.042057\n1    Facebook    0.044184\n2      Google    0.043013\n3       Other    0.037765\n4       Yahoo    0.044876\n  ads_channel  conversion\n0        Bing    0.055060\n1    Facebook    0.056777\n2      Google    0.054737\n3       Other    0.050113\n4       Yahoo    0.055143\n________________________________________\n       browser  conversion\n0  Android_App    0.043469\n1       Chrome    0.043851\n2      FireFox    0.041697\n3           IE    0.043052\n4   Iphone_App    0.045793\n5        Opera    0.049879\n6       Safari    0.040795\n       browser  conversion\n0  Android_App    0.056026\n1       Chrome    0.054605\n2      FireFox    0.057041\n3           IE    0.054603\n4   Iphone_App    0.054588\n5        Opera    0.057134\n6       Safari    0.052830\n________________________________________\n",
          "name": "stdout"
        }
      ]
    },
    {
      "metadata": {
        "trusted": true
      },
      "cell_type": "code",
      "source": "",
      "execution_count": null,
      "outputs": []
    }
  ],
  "metadata": {
    "kernelspec": {
      "name": "python36",
      "display_name": "Python 3.6",
      "language": "python"
    },
    "language_info": {
      "mimetype": "text/x-python",
      "nbconvert_exporter": "python",
      "name": "python",
      "pygments_lexer": "ipython3",
      "version": "3.6.6",
      "file_extension": ".py",
      "codemirror_mode": {
        "version": 3,
        "name": "ipython"
      }
    }
  },
  "nbformat": 4,
  "nbformat_minor": 1
}