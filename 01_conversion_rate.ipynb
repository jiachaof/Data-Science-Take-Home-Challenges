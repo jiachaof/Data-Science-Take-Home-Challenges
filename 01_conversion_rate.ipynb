{
  "cells": [
    {
      "metadata": {
        "collapsed": true
      },
      "cell_type": "markdown",
      "source": "# 01 Conversion Rate\n\n## Challenge Description\nWe have data about users who hit our site: whether they converted or not as well as some of their characteristics such as their country, the marketing channel, their age, whether they are\nrepeat users and the number of pages visited during that session (as a proxy for site activity/time spent on site).\nYour project is to: \nPredict conversion rate\nCome up with recommendations for the product team and the marketing team to improve conversion rate"
    },
    {
      "metadata": {},
      "cell_type": "markdown",
      "source": "## Data Description\n- country : user country based on the IP address\n- age : user age. Self-reported at sign-in step\n- new_user : whether the user created the account during this session or had already an account and simply came back to the site\n- source : marketing channel source\n    -  Ads: came to the site by clicking on an advertisement\n    -  Seo: came to the site by clicking on search results\n    -  Direct: came to the site by directly typing the URL on the browser\n- total_pages_visited: number of total pages visited during the session. This is a proxy for time spent on site and engagement during the session.\n- converted: this is our label. 1 means they converted within the session, 0 means they left without buying anything. The company goal is to increase conversion rate: # conversions/ total sessions."
    },
    {
      "metadata": {
        "trusted": true
      },
      "cell_type": "code",
      "source": "# data analysis and wrangling\nimport pandas as pd\nimport numpy as np\nimport random as rnd\n\n# visualization\nimport seaborn as sns\nimport matplotlib.pyplot as plt\n%matplotlib inline\n\n# machine learning\nfrom sklearn.linear_model import LogisticRegression\nfrom sklearn.svm import SVC, LinearSVC\nfrom sklearn.ensemble import RandomForestClassifier\nfrom sklearn.neighbors import KNeighborsClassifier\nfrom sklearn.naive_bayes import GaussianNB\nfrom sklearn.linear_model import Perceptron\nfrom sklearn.linear_model import SGDClassifier\nfrom sklearn.tree import DecisionTreeClassifier",
      "execution_count": 9,
      "outputs": [
        {
          "output_type": "stream",
          "text": "/home/nbuser/anaconda3_501/lib/python3.6/site-packages/matplotlib/font_manager.py:229: UserWarning: Matplotlib is building the font cache using fc-list. This may take a moment.\n  'Matplotlib is building the font cache using fc-list. '\n",
          "name": "stderr"
        }
      ]
    },
    {
      "metadata": {},
      "cell_type": "markdown",
      "source": "## Analyze by describing data\n### Which features are available in the data set?"
    },
    {
      "metadata": {
        "trusted": true
      },
      "cell_type": "code",
      "source": "# load dataset\ndata = pd.read_csv(\"data/conversion_data.csv\")\nprint(data.columns.values)",
      "execution_count": 10,
      "outputs": [
        {
          "output_type": "stream",
          "text": "['country' 'age' 'new_user' 'source' 'total_pages_visited' 'converted']\n",
          "name": "stdout"
        }
      ]
    },
    {
      "metadata": {},
      "cell_type": "markdown",
      "source": "### Which features are categorical?\nThese values classify the samples into sets of similar samples. Within categorical features are the values nominal, ordinal, ratio, or interval based? Among other things this helps us select the appropriate plots for visualization.\n- country, new_user, source\n\n### Which features are numerical?\nWhich features are numerical? These values change from sample to sample. Within numerical features are the values discrete, continuous, or timeseries based? Among other things this helps us select the appropriate plots for visualization.\n- age, total_page_visited"
    },
    {
      "metadata": {
        "trusted": true
      },
      "cell_type": "code",
      "source": "# preview the data\ndata.head()",
      "execution_count": 11,
      "outputs": [
        {
          "output_type": "execute_result",
          "execution_count": 11,
          "data": {
            "text/html": "<div>\n<style scoped>\n    .dataframe tbody tr th:only-of-type {\n        vertical-align: middle;\n    }\n\n    .dataframe tbody tr th {\n        vertical-align: top;\n    }\n\n    .dataframe thead th {\n        text-align: right;\n    }\n</style>\n<table border=\"1\" class=\"dataframe\">\n  <thead>\n    <tr style=\"text-align: right;\">\n      <th></th>\n      <th>country</th>\n      <th>age</th>\n      <th>new_user</th>\n      <th>source</th>\n      <th>total_pages_visited</th>\n      <th>converted</th>\n    </tr>\n  </thead>\n  <tbody>\n    <tr>\n      <th>0</th>\n      <td>UK</td>\n      <td>25</td>\n      <td>1</td>\n      <td>Ads</td>\n      <td>1</td>\n      <td>0</td>\n    </tr>\n    <tr>\n      <th>1</th>\n      <td>US</td>\n      <td>23</td>\n      <td>1</td>\n      <td>Seo</td>\n      <td>5</td>\n      <td>0</td>\n    </tr>\n    <tr>\n      <th>2</th>\n      <td>US</td>\n      <td>28</td>\n      <td>1</td>\n      <td>Seo</td>\n      <td>4</td>\n      <td>0</td>\n    </tr>\n    <tr>\n      <th>3</th>\n      <td>China</td>\n      <td>39</td>\n      <td>1</td>\n      <td>Seo</td>\n      <td>5</td>\n      <td>0</td>\n    </tr>\n    <tr>\n      <th>4</th>\n      <td>US</td>\n      <td>30</td>\n      <td>1</td>\n      <td>Seo</td>\n      <td>6</td>\n      <td>0</td>\n    </tr>\n  </tbody>\n</table>\n</div>",
            "text/plain": "  country  age  new_user source  total_pages_visited  converted\n0      UK   25         1    Ads                    1          0\n1      US   23         1    Seo                    5          0\n2      US   28         1    Seo                    4          0\n3   China   39         1    Seo                    5          0\n4      US   30         1    Seo                    6          0"
          },
          "metadata": {}
        }
      ]
    },
    {
      "metadata": {
        "trusted": true
      },
      "cell_type": "markdown",
      "source": "### Which features may contain errors or typos?\n\nThis is harder to review for a large dataset, however reviewing a few samples from a smaller dataset may just tell us outright, which features may require correcting.\n\n- Name feature may contain errors or typos as there are several ways used to describe a name including titles, round brackets, and quotes used for alternative or short names."
    },
    {
      "metadata": {
        "trusted": true
      },
      "cell_type": "code",
      "source": "data.tail()",
      "execution_count": 12,
      "outputs": [
        {
          "output_type": "execute_result",
          "execution_count": 12,
          "data": {
            "text/html": "<div>\n<style scoped>\n    .dataframe tbody tr th:only-of-type {\n        vertical-align: middle;\n    }\n\n    .dataframe tbody tr th {\n        vertical-align: top;\n    }\n\n    .dataframe thead th {\n        text-align: right;\n    }\n</style>\n<table border=\"1\" class=\"dataframe\">\n  <thead>\n    <tr style=\"text-align: right;\">\n      <th></th>\n      <th>country</th>\n      <th>age</th>\n      <th>new_user</th>\n      <th>source</th>\n      <th>total_pages_visited</th>\n      <th>converted</th>\n    </tr>\n  </thead>\n  <tbody>\n    <tr>\n      <th>316195</th>\n      <td>US</td>\n      <td>26</td>\n      <td>1</td>\n      <td>Ads</td>\n      <td>9</td>\n      <td>0</td>\n    </tr>\n    <tr>\n      <th>316196</th>\n      <td>US</td>\n      <td>27</td>\n      <td>1</td>\n      <td>Direct</td>\n      <td>6</td>\n      <td>0</td>\n    </tr>\n    <tr>\n      <th>316197</th>\n      <td>China</td>\n      <td>25</td>\n      <td>0</td>\n      <td>Ads</td>\n      <td>4</td>\n      <td>0</td>\n    </tr>\n    <tr>\n      <th>316198</th>\n      <td>US</td>\n      <td>22</td>\n      <td>0</td>\n      <td>Seo</td>\n      <td>4</td>\n      <td>0</td>\n    </tr>\n    <tr>\n      <th>316199</th>\n      <td>UK</td>\n      <td>24</td>\n      <td>0</td>\n      <td>Ads</td>\n      <td>4</td>\n      <td>0</td>\n    </tr>\n  </tbody>\n</table>\n</div>",
            "text/plain": "       country  age  new_user  source  total_pages_visited  converted\n316195      US   26         1     Ads                    9          0\n316196      US   27         1  Direct                    6          0\n316197   China   25         0     Ads                    4          0\n316198      US   22         0     Seo                    4          0\n316199      UK   24         0     Ads                    4          0"
          },
          "metadata": {}
        }
      ]
    },
    {
      "metadata": {
        "trusted": true
      },
      "cell_type": "code",
      "source": "data.info()",
      "execution_count": 13,
      "outputs": [
        {
          "output_type": "stream",
          "text": "<class 'pandas.core.frame.DataFrame'>\nRangeIndex: 316200 entries, 0 to 316199\nData columns (total 6 columns):\ncountry                316200 non-null object\nage                    316200 non-null int64\nnew_user               316200 non-null int64\nsource                 316200 non-null object\ntotal_pages_visited    316200 non-null int64\nconverted              316200 non-null int64\ndtypes: int64(4), object(2)\nmemory usage: 14.5+ MB\n",
          "name": "stdout"
        }
      ]
    },
    {
      "metadata": {},
      "cell_type": "markdown",
      "source": "- Total samples are 316200\n- Converted is a categorical feature with 0 or 1 values\n- Overall conversion rate is about 3.2%\n- Around 69% new users\n- Few elder users\n- Average page view is about 5"
    },
    {
      "metadata": {
        "trusted": true
      },
      "cell_type": "code",
      "source": "data.describe()",
      "execution_count": 14,
      "outputs": [
        {
          "output_type": "execute_result",
          "execution_count": 14,
          "data": {
            "text/html": "<div>\n<style scoped>\n    .dataframe tbody tr th:only-of-type {\n        vertical-align: middle;\n    }\n\n    .dataframe tbody tr th {\n        vertical-align: top;\n    }\n\n    .dataframe thead th {\n        text-align: right;\n    }\n</style>\n<table border=\"1\" class=\"dataframe\">\n  <thead>\n    <tr style=\"text-align: right;\">\n      <th></th>\n      <th>age</th>\n      <th>new_user</th>\n      <th>total_pages_visited</th>\n      <th>converted</th>\n    </tr>\n  </thead>\n  <tbody>\n    <tr>\n      <th>count</th>\n      <td>316200.000000</td>\n      <td>316200.000000</td>\n      <td>316200.000000</td>\n      <td>316200.000000</td>\n    </tr>\n    <tr>\n      <th>mean</th>\n      <td>30.569858</td>\n      <td>0.685465</td>\n      <td>4.872966</td>\n      <td>0.032258</td>\n    </tr>\n    <tr>\n      <th>std</th>\n      <td>8.271802</td>\n      <td>0.464331</td>\n      <td>3.341104</td>\n      <td>0.176685</td>\n    </tr>\n    <tr>\n      <th>min</th>\n      <td>17.000000</td>\n      <td>0.000000</td>\n      <td>1.000000</td>\n      <td>0.000000</td>\n    </tr>\n    <tr>\n      <th>25%</th>\n      <td>24.000000</td>\n      <td>0.000000</td>\n      <td>2.000000</td>\n      <td>0.000000</td>\n    </tr>\n    <tr>\n      <th>50%</th>\n      <td>30.000000</td>\n      <td>1.000000</td>\n      <td>4.000000</td>\n      <td>0.000000</td>\n    </tr>\n    <tr>\n      <th>75%</th>\n      <td>36.000000</td>\n      <td>1.000000</td>\n      <td>7.000000</td>\n      <td>0.000000</td>\n    </tr>\n    <tr>\n      <th>max</th>\n      <td>123.000000</td>\n      <td>1.000000</td>\n      <td>29.000000</td>\n      <td>1.000000</td>\n    </tr>\n  </tbody>\n</table>\n</div>",
            "text/plain": "                 age       new_user  total_pages_visited      converted\ncount  316200.000000  316200.000000        316200.000000  316200.000000\nmean       30.569858       0.685465             4.872966       0.032258\nstd         8.271802       0.464331             3.341104       0.176685\nmin        17.000000       0.000000             1.000000       0.000000\n25%        24.000000       0.000000             2.000000       0.000000\n50%        30.000000       1.000000             4.000000       0.000000\n75%        36.000000       1.000000             7.000000       0.000000\nmax       123.000000       1.000000            29.000000       1.000000"
          },
          "metadata": {}
        }
      ]
    },
    {
      "metadata": {},
      "cell_type": "markdown",
      "source": "- country variable as four possible values: US (Top, 178092), China, UK, and Germany\n- source variable as three possible values: Seo (Top,49%), Ads, and Direct"
    },
    {
      "metadata": {
        "trusted": true
      },
      "cell_type": "code",
      "source": "print(data.describe(include=['O']))\nprint(\"_\"*40)\nprint(data['country'].value_counts())\nprint(\"_\"*40)\nprint(data['source'].value_counts())",
      "execution_count": 15,
      "outputs": [
        {
          "output_type": "stream",
          "text": "       country  source\ncount   316200  316200\nunique       4       3\ntop         US     Seo\nfreq    178092  155040\n________________________________________\nUS         178092\nChina       76602\nUK          48450\nGermany     13056\nName: country, dtype: int64\n________________________________________\nSeo       155040\nAds        88740\nDirect     72420\nName: source, dtype: int64\n",
          "name": "stdout"
        }
      ]
    },
    {
      "metadata": {},
      "cell_type": "markdown",
      "source": "## Analyze by pivoting features\n- Convertion rate of new users are much lower, only 1.4%\n- Convertion rate of Gemany and UK are above average, which conversion rate of China is only 0.1%\n- Convertion rates from different sources do not vary much \n"
    },
    {
      "metadata": {
        "trusted": true
      },
      "cell_type": "code",
      "source": "categories = ['new_user', 'country', 'source']\nfor cate in categories:\n    print (data[[cate, 'converted']].groupby([cate], as_index=False).mean().sort_values(by='converted', ascending=False))\n    print (\"_\"*40)",
      "execution_count": 16,
      "outputs": [
        {
          "output_type": "stream",
          "text": "   new_user  converted\n0         0   0.072002\n1         1   0.014021\n________________________________________\n   country  converted\n1  Germany   0.062500\n2       UK   0.052632\n3       US   0.037801\n0    China   0.001332\n________________________________________\n   source  converted\n0     Ads   0.034483\n2     Seo   0.032895\n1  Direct   0.028169\n________________________________________\n",
          "name": "stdout"
        }
      ]
    },
    {
      "metadata": {
        "trusted": true
      },
      "cell_type": "markdown",
      "source": "## Analyze by visualizing data\n- Users whose age < 50 are more likely to purchase\n- Total page view ranges from 10 - 20 are more likely to purchase"
    },
    {
      "metadata": {
        "trusted": true
      },
      "cell_type": "code",
      "source": "g = sns.FacetGrid(data, col='converted')\ng.map(plt.hist, 'age', bins=20)",
      "execution_count": 17,
      "outputs": [
        {
          "output_type": "execute_result",
          "execution_count": 17,
          "data": {
            "text/plain": "<seaborn.axisgrid.FacetGrid at 0x7f573d650240>"
          },
          "metadata": {}
        },
        {
          "output_type": "display_data",
          "data": {
            "image/png": "[encoded data removed]",
            "text/plain": "<Figure size 432x216 with 2 Axes>"
          },
          "metadata": {
            "needs_background": "light"
          }
        }
      ]
    },
    {
      "metadata": {
        "trusted": true
      },
      "cell_type": "code",
      "source": "g = sns.FacetGrid(data, col='converted')\ng.map(plt.hist, 'total_pages_visited', bins=20)",
      "execution_count": 18,
      "outputs": [
        {
          "output_type": "execute_result",
          "execution_count": 18,
          "data": {
            "text/plain": "<seaborn.axisgrid.FacetGrid at 0x7f573d2dbdd8>"
          },
          "metadata": {}
        },
        {
          "output_type": "display_data",
          "data": {
            "image/png": "[encoded data removed]",
            "text/plain": "<Figure size 432x216 with 2 Axes>"
          },
          "metadata": {
            "needs_background": "light"
          }
        }
      ]
    },
    {
      "metadata": {},
      "cell_type": "markdown",
      "source": "## Correlating numerical and category features\n\n### Findings\n- Contry and age do not have much correlation"
    },
    {
      "metadata": {
        "trusted": true
      },
      "cell_type": "code",
      "source": "grid = sns.FacetGrid(data, col='converted', row='country', height=2.2, aspect=1.6)\ngrid.map(plt.hist, 'age', alpha=.5, bins=20)\ngrid.add_legend();",
      "execution_count": 19,
      "outputs": [
        {
          "output_type": "stream",
          "text": "/home/nbuser/anaconda3_501/lib/python3.6/site-packages/seaborn/axisgrid.py:230: UserWarning: The `size` paramter has been renamed to `height`; please update your code.\n  warnings.warn(msg, UserWarning)\n",
          "name": "stderr"
        },
        {
          "output_type": "display_data",
          "data": {
            "image/png": "[encoded data removed]",
            "text/plain": "<Figure size 514.88x633.6 with 8 Axes>"
          },
          "metadata": {
            "needs_background": "light"
          }
        }
      ]
    },
    {
      "metadata": {},
      "cell_type": "markdown",
      "source": "## Correlating categorical features\n### Observations\n- Old users had much higher conversion rate than new users\n- Chinese users had much lower converstion rate than users from other countries\n- Conversion rate does not vary much by source \n### Findings\n- Though converstion rate of Chinese users are really low, 0.13%, return Chinese users from direct source actually have the highest converstion rate\n### Decisions\n- Add source and country to the model"
    },
    {
      "metadata": {
        "trusted": true
      },
      "cell_type": "code",
      "source": "grid = sns.FacetGrid(data, row='source', height=2.2, aspect=1.6)\ngrid.map(sns.pointplot, 'new_user', 'converted','country', palette='deep')\ngrid.add_legend()",
      "execution_count": 23,
      "outputs": [
        {
          "output_type": "stream",
          "text": "/home/nbuser/anaconda3_501/lib/python3.6/site-packages/seaborn/axisgrid.py:230: UserWarning: The `size` paramter has been renamed to `height`; please update your code.\n  warnings.warn(msg, UserWarning)\n/home/nbuser/anaconda3_501/lib/python3.6/site-packages/seaborn/axisgrid.py:715: UserWarning: Using the pointplot function without specifying `order` is likely to produce an incorrect plot.\n  warnings.warn(warning)\n/home/nbuser/anaconda3_501/lib/python3.6/site-packages/seaborn/axisgrid.py:720: UserWarning: Using the pointplot function without specifying `hue_order` is likely to produce an incorrect plot.\n  warnings.warn(warning)\n",
          "name": "stderr"
        },
        {
          "output_type": "execute_result",
          "execution_count": 23,
          "data": {
            "text/plain": "<seaborn.axisgrid.FacetGrid at 0x7f00bd389860>"
          },
          "metadata": {}
        },
        {
          "output_type": "display_data",
          "data": {
            "image/png": "[encoded data removed]",
            "text/plain": "<Figure size 335.44x475.2 with 3 Axes>"
          },
          "metadata": {
            "needs_background": "light"
          }
        }
      ]
    },
    {
      "metadata": {},
      "cell_type": "markdown",
      "source": "## Wrangle data\n### Observations\nthe original data set is highly imblance with only 3% converted records and the total sample size is actually large (316200)\n### Decisions\n- Undersampling 1/1\n- Conduct train test split 7/3"
    },
    {
      "metadata": {
        "trusted": true
      },
      "cell_type": "code",
      "source": "# !pip uninstall scikit-learn -y\n# !pip install scikit-learn",
      "execution_count": 1,
      "outputs": []
    },
    {
      "metadata": {
        "trusted": true
      },
      "cell_type": "code",
      "source": "# from imblearn.under_sampling import RandomUnderSampler\n# from sklearn.model_selection import train_test_split\n# X, y = data[['country', 'age', 'new_user', 'source', 'total_pages_visited']], data['converted']\n# ros = RandomUnderSampler(random_state = 0)\n# ros.fit(X, y)\n# X_resampled, y_resampled = ros.fit_sample(X, y)",
      "execution_count": 2,
      "outputs": []
    },
    {
      "metadata": {
        "trusted": true
      },
      "cell_type": "code",
      "source": "X_resampled = pd.read_csv(\"data/X_resampled.csv\")\ny_resampled = pd.read_csv(\"data/y_resampled.csv\")",
      "execution_count": 81,
      "outputs": []
    },
    {
      "metadata": {},
      "cell_type": "markdown",
      "source": "### Completing categorical feature\nTransform categorical variables to dummy variables."
    },
    {
      "metadata": {
        "trusted": true
      },
      "cell_type": "code",
      "source": "# print(X_resampled.sample(10))\n# print(X_resampled[\"0\"].value_counts())\n# print(X_resampled[\"3\"].value_counts())\n# X_resampled['0'] = X_resampled['0'].map( {'US': 0, 'UK': 1, 'China': 2, 'Germany':3} ).astype(int)\n# X_resampled['3'] = X_resampled['3'].map( {'Seo': 0, 'Ads': 1, 'Direct': 2} ).astype(int)",
      "execution_count": 35,
      "outputs": []
    },
    {
      "metadata": {
        "trusted": true
      },
      "cell_type": "code",
      "source": "X_resampled.columns = ['country','age', 'new_user', 'source','total_pages_visited']\ny_resampled.columns = ['converted']\ndf = pd.DataFrame(X_resampled['country'])\ndf = pd.concat([X_resampled, pd.get_dummies(df,prefix=['country'])], axis =1 )\nsource = pd.DataFrame(X_resampled['source'])\ndf = pd.concat([df, pd.get_dummies(source,prefix=['source'])], axis =1 )\ndf.drop(['country', 'source'],axis=1, inplace=True)\ndf.sample(10)",
      "execution_count": 83,
      "outputs": [
        {
          "output_type": "execute_result",
          "execution_count": 83,
          "data": {
            "text/html": "<div>\n<style scoped>\n    .dataframe tbody tr th:only-of-type {\n        vertical-align: middle;\n    }\n\n    .dataframe tbody tr th {\n        vertical-align: top;\n    }\n\n    .dataframe thead th {\n        text-align: right;\n    }\n</style>\n<table border=\"1\" class=\"dataframe\">\n  <thead>\n    <tr style=\"text-align: right;\">\n      <th></th>\n      <th>age</th>\n      <th>new_user</th>\n      <th>total_pages_visited</th>\n      <th>country_China</th>\n      <th>country_Germany</th>\n      <th>country_UK</th>\n      <th>country_US</th>\n      <th>source_Ads</th>\n      <th>source_Direct</th>\n      <th>source_Seo</th>\n    </tr>\n  </thead>\n  <tbody>\n    <tr>\n      <th>397</th>\n      <td>39</td>\n      <td>0</td>\n      <td>7</td>\n      <td>0</td>\n      <td>0</td>\n      <td>0</td>\n      <td>1</td>\n      <td>1</td>\n      <td>0</td>\n      <td>0</td>\n    </tr>\n    <tr>\n      <th>16745</th>\n      <td>28</td>\n      <td>0</td>\n      <td>16</td>\n      <td>0</td>\n      <td>0</td>\n      <td>0</td>\n      <td>1</td>\n      <td>1</td>\n      <td>0</td>\n      <td>0</td>\n    </tr>\n    <tr>\n      <th>17528</th>\n      <td>17</td>\n      <td>0</td>\n      <td>11</td>\n      <td>0</td>\n      <td>0</td>\n      <td>0</td>\n      <td>1</td>\n      <td>1</td>\n      <td>0</td>\n      <td>0</td>\n    </tr>\n    <tr>\n      <th>17804</th>\n      <td>24</td>\n      <td>0</td>\n      <td>12</td>\n      <td>0</td>\n      <td>0</td>\n      <td>0</td>\n      <td>1</td>\n      <td>1</td>\n      <td>0</td>\n      <td>0</td>\n    </tr>\n    <tr>\n      <th>2710</th>\n      <td>42</td>\n      <td>1</td>\n      <td>6</td>\n      <td>1</td>\n      <td>0</td>\n      <td>0</td>\n      <td>0</td>\n      <td>1</td>\n      <td>0</td>\n      <td>0</td>\n    </tr>\n    <tr>\n      <th>12882</th>\n      <td>23</td>\n      <td>1</td>\n      <td>18</td>\n      <td>0</td>\n      <td>0</td>\n      <td>0</td>\n      <td>1</td>\n      <td>0</td>\n      <td>1</td>\n      <td>0</td>\n    </tr>\n    <tr>\n      <th>17474</th>\n      <td>23</td>\n      <td>0</td>\n      <td>13</td>\n      <td>0</td>\n      <td>0</td>\n      <td>0</td>\n      <td>1</td>\n      <td>0</td>\n      <td>0</td>\n      <td>1</td>\n    </tr>\n    <tr>\n      <th>8706</th>\n      <td>20</td>\n      <td>0</td>\n      <td>5</td>\n      <td>0</td>\n      <td>0</td>\n      <td>0</td>\n      <td>1</td>\n      <td>0</td>\n      <td>0</td>\n      <td>1</td>\n    </tr>\n    <tr>\n      <th>207</th>\n      <td>27</td>\n      <td>1</td>\n      <td>2</td>\n      <td>1</td>\n      <td>0</td>\n      <td>0</td>\n      <td>0</td>\n      <td>0</td>\n      <td>1</td>\n      <td>0</td>\n    </tr>\n    <tr>\n      <th>9615</th>\n      <td>32</td>\n      <td>1</td>\n      <td>7</td>\n      <td>0</td>\n      <td>0</td>\n      <td>0</td>\n      <td>1</td>\n      <td>1</td>\n      <td>0</td>\n      <td>0</td>\n    </tr>\n  </tbody>\n</table>\n</div>",
            "text/plain": "       age  new_user  total_pages_visited  country_China  country_Germany  \\\n397     39         0                    7              0                0   \n16745   28         0                   16              0                0   \n17528   17         0                   11              0                0   \n17804   24         0                   12              0                0   \n2710    42         1                    6              1                0   \n12882   23         1                   18              0                0   \n17474   23         0                   13              0                0   \n8706    20         0                    5              0                0   \n207     27         1                    2              1                0   \n9615    32         1                    7              0                0   \n\n       country_UK  country_US  source_Ads  source_Direct  source_Seo  \n397             0           1           1              0           0  \n16745           0           1           1              0           0  \n17528           0           1           1              0           0  \n17804           0           1           1              0           0  \n2710            0           0           1              0           0  \n12882           0           1           0              1           0  \n17474           0           1           0              0           1  \n8706            0           1           0              0           1  \n207             0           0           0              1           0  \n9615            0           1           1              0           0  "
          },
          "metadata": {}
        }
      ]
    },
    {
      "metadata": {
        "trusted": true
      },
      "cell_type": "code",
      "source": "X_resampled = df",
      "execution_count": 85,
      "outputs": []
    },
    {
      "metadata": {},
      "cell_type": "markdown",
      "source": "## Model, predict and solve\n- Logistic Regression\n- Decision Tree\n- Support Vector Machines\n- Naive Bayes classifier\n- Perceptron\n- KNN\n- Linear SVC\n- Random Forest\n- SGD"
    },
    {
      "metadata": {
        "trusted": true
      },
      "cell_type": "code",
      "source": "from sklearn.model_selection import train_test_split\n\nX_train, X_test, y_train, y_test = train_test_split(X_resampled, y_resampled, test_size=0.3, random_state=42)\nX_train.shape, y_train.shape, X_test.shape",
      "execution_count": 98,
      "outputs": [
        {
          "output_type": "execute_result",
          "execution_count": 98,
          "data": {
            "text/plain": "((14280, 10), (14280, 1), (6120, 10))"
          },
          "metadata": {}
        }
      ]
    },
    {
      "metadata": {
        "trusted": true
      },
      "cell_type": "code",
      "source": "# Logistic Regression\n\nlogreg = LogisticRegression()\nlogreg.fit(X_train, y_train.values.ravel())\nY_pred = logreg.predict(X_test)\nacc_log = round(logreg.score(X_train, y_train.values.ravel()) * 100, 2)\nacc_log_act = round(logreg.score(X_test, y_test.values.ravel()) * 100, 2)\nacc_log, acc_log_act",
      "execution_count": 109,
      "outputs": [
        {
          "output_type": "execute_result",
          "execution_count": 109,
          "data": {
            "text/plain": "(94.3, 93.64)"
          },
          "metadata": {}
        }
      ]
    },
    {
      "metadata": {},
      "cell_type": "markdown",
      "source": "- total pages visited is the highest positive coefficient, implying as total pages visited increases, the probability of convert=1 increases the most.\n- Inversely, the new user value increase, probability of converted=1 decreases the most, which means new users are less likely to purchase.\n- Customers from Germany are most likely to purchase, followed by UK\n"
    },
    {
      "metadata": {
        "trusted": true
      },
      "cell_type": "code",
      "source": "coeff_df = pd.DataFrame(X_train.columns)\ncoeff_df.columns = ['Feature']\ncoeff_df[\"Correlation\"] = pd.Series(logreg.coef_[0])\n\ncoeff_df.sort_values(by='Correlation', ascending=False)\n",
      "execution_count": 100,
      "outputs": [
        {
          "output_type": "execute_result",
          "execution_count": 100,
          "data": {
            "text/html": "<div>\n<style scoped>\n    .dataframe tbody tr th:only-of-type {\n        vertical-align: middle;\n    }\n\n    .dataframe tbody tr th {\n        vertical-align: top;\n    }\n\n    .dataframe thead th {\n        text-align: right;\n    }\n</style>\n<table border=\"1\" class=\"dataframe\">\n  <thead>\n    <tr style=\"text-align: right;\">\n      <th></th>\n      <th>Feature</th>\n      <th>Correlation</th>\n    </tr>\n  </thead>\n  <tbody>\n    <tr>\n      <th>2</th>\n      <td>total_pages_visited</td>\n      <td>0.755085</td>\n    </tr>\n    <tr>\n      <th>4</th>\n      <td>country_Germany</td>\n      <td>0.428349</td>\n    </tr>\n    <tr>\n      <th>5</th>\n      <td>country_UK</td>\n      <td>0.304160</td>\n    </tr>\n    <tr>\n      <th>6</th>\n      <td>country_US</td>\n      <td>-0.071236</td>\n    </tr>\n    <tr>\n      <th>0</th>\n      <td>age</td>\n      <td>-0.073173</td>\n    </tr>\n    <tr>\n      <th>9</th>\n      <td>source_Seo</td>\n      <td>-0.805955</td>\n    </tr>\n    <tr>\n      <th>7</th>\n      <td>source_Ads</td>\n      <td>-0.868449</td>\n    </tr>\n    <tr>\n      <th>8</th>\n      <td>source_Direct</td>\n      <td>-1.090616</td>\n    </tr>\n    <tr>\n      <th>1</th>\n      <td>new_user</td>\n      <td>-1.742462</td>\n    </tr>\n    <tr>\n      <th>3</th>\n      <td>country_China</td>\n      <td>-3.426294</td>\n    </tr>\n  </tbody>\n</table>\n</div>",
            "text/plain": "               Feature  Correlation\n2  total_pages_visited     0.755085\n4      country_Germany     0.428349\n5           country_UK     0.304160\n6           country_US    -0.071236\n0                  age    -0.073173\n9           source_Seo    -0.805955\n7           source_Ads    -0.868449\n8        source_Direct    -1.090616\n1             new_user    -1.742462\n3        country_China    -3.426294"
          },
          "metadata": {}
        }
      ]
    },
    {
      "metadata": {
        "trusted": true
      },
      "cell_type": "code",
      "source": "# Decision Tree\n\ndecision_tree = DecisionTreeClassifier()\ndecision_tree.fit(X_train, y_train.values.ravel())\nY_pred = decision_tree.predict(X_test)\nacc_decision_tree = round(decision_tree.score(X_train, y_train.values.ravel()) * 100, 2)\nacc_decision_tree_act = round(decision_tree.score(X_test, y_test.values.ravel()) * 100, 2)\nacc_decision_tree,acc_decision_tree_act",
      "execution_count": 111,
      "outputs": [
        {
          "output_type": "execute_result",
          "execution_count": 111,
          "data": {
            "text/plain": "(96.81, 91.8)"
          },
          "metadata": {}
        }
      ]
    },
    {
      "metadata": {
        "trusted": true
      },
      "cell_type": "code",
      "source": "# Support Vector Machines\n\nsvc = SVC()\nsvc.fit(X_train, y_train.values.ravel())\nY_pred = svc.predict(X_test)\nacc_svc = round(svc.score(X_train, y_train.values.ravel()) * 100, 2)\nacc_svc_act = round(svc.score(X_test, y_test.values.ravel()) * 100, 2)\nacc_svc,acc_svc_act",
      "execution_count": 112,
      "outputs": [
        {
          "output_type": "execute_result",
          "execution_count": 112,
          "data": {
            "text/plain": "(94.43, 93.5)"
          },
          "metadata": {}
        }
      ]
    },
    {
      "metadata": {
        "trusted": true
      },
      "cell_type": "code",
      "source": "# Gaussian Naive Bayes\n\ngaussian = GaussianNB()\ngaussian.fit(X_train, y_train)\nY_pred = gaussian.predict(X_test)\nacc_gaussian = round(gaussian.score(X_train, y_train.values.ravel()) * 100, 2)\nacc_gaussian_act = round(gaussian.score(X_test, y_test.values.ravel()) * 100, 2)\nacc_gaussian, acc_gaussian_act",
      "execution_count": 113,
      "outputs": [
        {
          "output_type": "stream",
          "text": "/home/nbuser/anaconda3_501/lib/python3.6/site-packages/sklearn/utils/validation.py:578: DataConversionWarning: A column-vector y was passed when a 1d array was expected. Please change the shape of y to (n_samples, ), for example using ravel().\n  y = column_or_1d(y, warn=True)\n",
          "name": "stderr"
        },
        {
          "output_type": "execute_result",
          "execution_count": 113,
          "data": {
            "text/plain": "(91.61, 90.93)"
          },
          "metadata": {}
        }
      ]
    },
    {
      "metadata": {
        "trusted": true
      },
      "cell_type": "code",
      "source": "# Perceptron\n\nperceptron = Perceptron()\nperceptron.fit(X_train, y_train)\nY_pred = perceptron.predict(X_test)\nacc_perceptron = round(perceptron.score(X_train, y_train.values.ravel()) * 100, 2)\nacc_perceptron_act = round(perceptron.score(X_test, y_test.values.ravel()) * 100, 2)\nacc_perceptron, acc_perceptron_act",
      "execution_count": 114,
      "outputs": [
        {
          "output_type": "stream",
          "text": "/home/nbuser/anaconda3_501/lib/python3.6/site-packages/sklearn/linear_model/stochastic_gradient.py:128: FutureWarning: max_iter and tol parameters have been added in <class 'sklearn.linear_model.perceptron.Perceptron'> in 0.19. If both are left unset, they default to max_iter=5 and tol=None. If tol is not None, max_iter defaults to max_iter=1000. From 0.21, default max_iter will be 1000, and default tol will be 1e-3.\n  \"and default tol will be 1e-3.\" % type(self), FutureWarning)\n/home/nbuser/anaconda3_501/lib/python3.6/site-packages/sklearn/utils/validation.py:578: DataConversionWarning: A column-vector y was passed when a 1d array was expected. Please change the shape of y to (n_samples, ), for example using ravel().\n  y = column_or_1d(y, warn=True)\n",
          "name": "stderr"
        },
        {
          "output_type": "execute_result",
          "execution_count": 114,
          "data": {
            "text/plain": "(93.91, 93.46)"
          },
          "metadata": {}
        }
      ]
    },
    {
      "metadata": {
        "trusted": true
      },
      "cell_type": "code",
      "source": "# Linear SVC\n\nlinear_svc = LinearSVC()\nlinear_svc.fit(X_train, y_train.values.ravel())\nY_pred = linear_svc.predict(X_test)\nacc_linear_svc = round(linear_svc.score(X_train, y_train.values.ravel()) * 100, 2)\nacc_linear_svc_act = round(linear_svc.score(X_test, y_test.values.ravel()) * 100, 2)\nacc_linear_svc, acc_linear_svc_act",
      "execution_count": 115,
      "outputs": [
        {
          "output_type": "execute_result",
          "execution_count": 115,
          "data": {
            "text/plain": "(94.06, 93.63)"
          },
          "metadata": {}
        }
      ]
    },
    {
      "metadata": {
        "trusted": true
      },
      "cell_type": "code",
      "source": "# Stochastic Gradient Descent\n\nsgd = SGDClassifier()\nsgd.fit(X_train, y_train.values.ravel())\nY_pred = sgd.predict(X_test)\nacc_sgd = round(sgd.score(X_train, y_train.values.ravel()) * 100, 2)\nacc_sgd_act = round(sgd.score(X_test, y_test.values.ravel()) * 100, 2)\nacc_sgd, acc_sgd_act",
      "execution_count": 116,
      "outputs": [
        {
          "output_type": "stream",
          "text": "/home/nbuser/anaconda3_501/lib/python3.6/site-packages/sklearn/linear_model/stochastic_gradient.py:128: FutureWarning: max_iter and tol parameters have been added in <class 'sklearn.linear_model.stochastic_gradient.SGDClassifier'> in 0.19. If both are left unset, they default to max_iter=5 and tol=None. If tol is not None, max_iter defaults to max_iter=1000. From 0.21, default max_iter will be 1000, and default tol will be 1e-3.\n  \"and default tol will be 1e-3.\" % type(self), FutureWarning)\n",
          "name": "stderr"
        },
        {
          "output_type": "execute_result",
          "execution_count": 116,
          "data": {
            "text/plain": "(93.87, 93.53)"
          },
          "metadata": {}
        }
      ]
    },
    {
      "metadata": {
        "trusted": true
      },
      "cell_type": "code",
      "source": "# Random Forest\n\nrandom_forest = RandomForestClassifier(n_estimators=100)\nrandom_forest.fit(X_train, y_train.values.ravel())\nY_pred = random_forest.predict(X_test)\nacc_random_forest = round(random_forest.score(X_train, y_train.values.ravel()) * 100, 2)\nacc_random_forest_act = round(random_forest.score(X_test, y_test.values.ravel()) * 100, 2)\nacc_random_forest, acc_random_forest_test",
      "execution_count": 118,
      "outputs": [
        {
          "output_type": "execute_result",
          "execution_count": 118,
          "data": {
            "text/plain": "(96.8, 92.3)"
          },
          "metadata": {}
        }
      ]
    },
    {
      "metadata": {
        "trusted": true
      },
      "cell_type": "code",
      "source": "#KNN\nknn = KNeighborsClassifier(n_neighbors = 3)\nknn.fit(X_train, y_train.values.ravel())\nY_pred = knn.predict(X_test)\nacc_knn = round(knn.score(X_train, y_train.values.ravel()) * 100, 2)\nacc_knn_act = round(knn.score(X_test, y_test.values.ravel()) * 100, 2)\nacc_knn, acc_knn_act",
      "execution_count": 119,
      "outputs": [
        {
          "output_type": "execute_result",
          "execution_count": 119,
          "data": {
            "text/plain": "(95.4, 92.22)"
          },
          "metadata": {}
        }
      ]
    },
    {
      "metadata": {},
      "cell_type": "markdown",
      "source": "### Model Evaluation\n- From the result, Logistic Regression performs best in test set."
    },
    {
      "metadata": {
        "trusted": true
      },
      "cell_type": "code",
      "source": "models = pd.DataFrame({\n    'Model': ['Support Vector Machines', 'KNN', 'Logistic Regression', \n              'Random Forest', 'Naive Bayes', 'Perceptron', \n              'Stochastic Gradient Decent', 'Linear SVC', \n              'Decision Tree'],\n    'Train Score': [acc_svc, acc_knn, acc_log, \n              acc_random_forest, acc_gaussian, acc_perceptron, \n              acc_sgd, acc_linear_svc, acc_decision_tree],\n    'Test Score': [acc_svc_act, acc_knn_act, acc_log_act, \n              acc_random_forest_act, acc_gaussian_act, acc_perceptron_act, \n              acc_sgd_act, acc_linear_svc_act, acc_decision_tree_act]})\nmodels.sort_values(by='Test Score', ascending=False)",
      "execution_count": 120,
      "outputs": [
        {
          "output_type": "execute_result",
          "execution_count": 120,
          "data": {
            "text/html": "<div>\n<style scoped>\n    .dataframe tbody tr th:only-of-type {\n        vertical-align: middle;\n    }\n\n    .dataframe tbody tr th {\n        vertical-align: top;\n    }\n\n    .dataframe thead th {\n        text-align: right;\n    }\n</style>\n<table border=\"1\" class=\"dataframe\">\n  <thead>\n    <tr style=\"text-align: right;\">\n      <th></th>\n      <th>Model</th>\n      <th>Test Score</th>\n      <th>Train Score</th>\n    </tr>\n  </thead>\n  <tbody>\n    <tr>\n      <th>2</th>\n      <td>Logistic Regression</td>\n      <td>93.64</td>\n      <td>94.30</td>\n    </tr>\n    <tr>\n      <th>7</th>\n      <td>Linear SVC</td>\n      <td>93.63</td>\n      <td>94.06</td>\n    </tr>\n    <tr>\n      <th>6</th>\n      <td>Stochastic Gradient Decent</td>\n      <td>93.53</td>\n      <td>93.87</td>\n    </tr>\n    <tr>\n      <th>0</th>\n      <td>Support Vector Machines</td>\n      <td>93.50</td>\n      <td>94.43</td>\n    </tr>\n    <tr>\n      <th>5</th>\n      <td>Perceptron</td>\n      <td>93.46</td>\n      <td>93.91</td>\n    </tr>\n    <tr>\n      <th>3</th>\n      <td>Random Forest</td>\n      <td>92.57</td>\n      <td>96.80</td>\n    </tr>\n    <tr>\n      <th>1</th>\n      <td>KNN</td>\n      <td>92.22</td>\n      <td>95.40</td>\n    </tr>\n    <tr>\n      <th>8</th>\n      <td>Decision Tree</td>\n      <td>91.80</td>\n      <td>96.81</td>\n    </tr>\n    <tr>\n      <th>4</th>\n      <td>Naive Bayes</td>\n      <td>90.93</td>\n      <td>91.61</td>\n    </tr>\n  </tbody>\n</table>\n</div>",
            "text/plain": "                        Model  Test Score  Train Score\n2         Logistic Regression       93.64        94.30\n7                  Linear SVC       93.63        94.06\n6  Stochastic Gradient Decent       93.53        93.87\n0     Support Vector Machines       93.50        94.43\n5                  Perceptron       93.46        93.91\n3               Random Forest       92.57        96.80\n1                         KNN       92.22        95.40\n8               Decision Tree       91.80        96.81\n4                 Naive Bayes       90.93        91.61"
          },
          "metadata": {}
        }
      ]
    },
    {
      "metadata": {
        "trusted": true
      },
      "cell_type": "code",
      "source": "",
      "execution_count": null,
      "outputs": []
    }
  ],
  "metadata": {
    "kernelspec": {
      "name": "python36",
      "display_name": "Python 3.6",
      "language": "python"
    },
    "language_info": {
      "mimetype": "text/x-python",
      "nbconvert_exporter": "python",
      "name": "python",
      "pygments_lexer": "ipython3",
      "version": "3.6.6",
      "file_extension": ".py",
      "codemirror_mode": {
        "version": 3,
        "name": "ipython"
      }
    }
  },
  "nbformat": 4,
  "nbformat_minor": 2
}